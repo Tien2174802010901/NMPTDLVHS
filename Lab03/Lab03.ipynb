{
 "cells": [
  {
   "cell_type": "markdown",
   "metadata": {},
   "source": [
    "Vấn đề 1 :"
   ]
  },
  {
   "cell_type": "code",
   "execution_count": 195,
   "metadata": {},
   "outputs": [],
   "source": [
    "import pandas as pd \n",
    "import numpy as np"
   ]
  },
  {
   "cell_type": "code",
   "execution_count": 196,
   "metadata": {},
   "outputs": [
    {
     "data": {
      "text/html": [
       "<div>\n",
       "<style scoped>\n",
       "    .dataframe tbody tr th:only-of-type {\n",
       "        vertical-align: middle;\n",
       "    }\n",
       "\n",
       "    .dataframe tbody tr th {\n",
       "        vertical-align: top;\n",
       "    }\n",
       "\n",
       "    .dataframe thead th {\n",
       "        text-align: right;\n",
       "    }\n",
       "</style>\n",
       "<table border=\"1\" class=\"dataframe\">\n",
       "  <thead>\n",
       "    <tr style=\"text-align: right;\">\n",
       "      <th></th>\n",
       "      <th>1</th>\n",
       "      <th>Mickéy Mousé</th>\n",
       "      <th>56</th>\n",
       "      <th>70kgs</th>\n",
       "      <th>72</th>\n",
       "      <th>69</th>\n",
       "      <th>71</th>\n",
       "      <th>-</th>\n",
       "      <th>-.1</th>\n",
       "      <th>-.2</th>\n",
       "    </tr>\n",
       "  </thead>\n",
       "  <tbody>\n",
       "    <tr>\n",
       "      <th>0</th>\n",
       "      <td>2.0</td>\n",
       "      <td>Donald Duck</td>\n",
       "      <td>34.0</td>\n",
       "      <td>154.89lbs</td>\n",
       "      <td>-</td>\n",
       "      <td>-</td>\n",
       "      <td>-</td>\n",
       "      <td>85</td>\n",
       "      <td>84</td>\n",
       "      <td>76</td>\n",
       "    </tr>\n",
       "    <tr>\n",
       "      <th>1</th>\n",
       "      <td>3.0</td>\n",
       "      <td>Mini Mouse</td>\n",
       "      <td>16.0</td>\n",
       "      <td>NaN</td>\n",
       "      <td>-</td>\n",
       "      <td>-</td>\n",
       "      <td>-</td>\n",
       "      <td>65</td>\n",
       "      <td>69</td>\n",
       "      <td>72</td>\n",
       "    </tr>\n",
       "    <tr>\n",
       "      <th>2</th>\n",
       "      <td>4.0</td>\n",
       "      <td>Scrooge McDuck</td>\n",
       "      <td>NaN</td>\n",
       "      <td>78kgs</td>\n",
       "      <td>78</td>\n",
       "      <td>79</td>\n",
       "      <td>72</td>\n",
       "      <td>-</td>\n",
       "      <td>-</td>\n",
       "      <td>-</td>\n",
       "    </tr>\n",
       "    <tr>\n",
       "      <th>3</th>\n",
       "      <td>5.0</td>\n",
       "      <td>Pink Panther</td>\n",
       "      <td>54.0</td>\n",
       "      <td>198.658lbs</td>\n",
       "      <td>-</td>\n",
       "      <td>-</td>\n",
       "      <td>-</td>\n",
       "      <td>69</td>\n",
       "      <td>NaN</td>\n",
       "      <td>75</td>\n",
       "    </tr>\n",
       "    <tr>\n",
       "      <th>4</th>\n",
       "      <td>6.0</td>\n",
       "      <td>Huey McDuck</td>\n",
       "      <td>52.0</td>\n",
       "      <td>189lbs</td>\n",
       "      <td>-</td>\n",
       "      <td>-</td>\n",
       "      <td>-</td>\n",
       "      <td>68</td>\n",
       "      <td>75</td>\n",
       "      <td>72</td>\n",
       "    </tr>\n",
       "    <tr>\n",
       "      <th>5</th>\n",
       "      <td>7.0</td>\n",
       "      <td>Dewey McDuck</td>\n",
       "      <td>19.0</td>\n",
       "      <td>56kgs</td>\n",
       "      <td>-</td>\n",
       "      <td>-</td>\n",
       "      <td>-</td>\n",
       "      <td>71</td>\n",
       "      <td>78</td>\n",
       "      <td>75</td>\n",
       "    </tr>\n",
       "    <tr>\n",
       "      <th>6</th>\n",
       "      <td>8.0</td>\n",
       "      <td>Scööpy Doo</td>\n",
       "      <td>32.0</td>\n",
       "      <td>78kgs</td>\n",
       "      <td>78</td>\n",
       "      <td>76</td>\n",
       "      <td>75</td>\n",
       "      <td>-</td>\n",
       "      <td>-</td>\n",
       "      <td>-</td>\n",
       "    </tr>\n",
       "    <tr>\n",
       "      <th>7</th>\n",
       "      <td>NaN</td>\n",
       "      <td>NaN</td>\n",
       "      <td>NaN</td>\n",
       "      <td>NaN</td>\n",
       "      <td>NaN</td>\n",
       "      <td>NaN</td>\n",
       "      <td>NaN</td>\n",
       "      <td>NaN</td>\n",
       "      <td>NaN</td>\n",
       "      <td>NaN</td>\n",
       "    </tr>\n",
       "    <tr>\n",
       "      <th>8</th>\n",
       "      <td>NaN</td>\n",
       "      <td>NaN</td>\n",
       "      <td>NaN</td>\n",
       "      <td>NaN</td>\n",
       "      <td>NaN</td>\n",
       "      <td>NaN</td>\n",
       "      <td>NaN</td>\n",
       "      <td>NaN</td>\n",
       "      <td>NaN</td>\n",
       "      <td>NaN</td>\n",
       "    </tr>\n",
       "    <tr>\n",
       "      <th>9</th>\n",
       "      <td>NaN</td>\n",
       "      <td>NaN</td>\n",
       "      <td>NaN</td>\n",
       "      <td>NaN</td>\n",
       "      <td>NaN</td>\n",
       "      <td>NaN</td>\n",
       "      <td>NaN</td>\n",
       "      <td>NaN</td>\n",
       "      <td>NaN</td>\n",
       "      <td>NaN</td>\n",
       "    </tr>\n",
       "    <tr>\n",
       "      <th>10</th>\n",
       "      <td>9.0</td>\n",
       "      <td>Huey McDuck</td>\n",
       "      <td>52.0</td>\n",
       "      <td>189lbs</td>\n",
       "      <td>-</td>\n",
       "      <td>-</td>\n",
       "      <td>-</td>\n",
       "      <td>68</td>\n",
       "      <td>75</td>\n",
       "      <td>72</td>\n",
       "    </tr>\n",
       "    <tr>\n",
       "      <th>11</th>\n",
       "      <td>10.0</td>\n",
       "      <td>Louie McDuck</td>\n",
       "      <td>12.0</td>\n",
       "      <td>45kgs</td>\n",
       "      <td>-</td>\n",
       "      <td>-</td>\n",
       "      <td>-</td>\n",
       "      <td>92</td>\n",
       "      <td>95</td>\n",
       "      <td>87</td>\n",
       "    </tr>\n",
       "    <tr>\n",
       "      <th>12</th>\n",
       "      <td>11.0</td>\n",
       "      <td>Henry Nam</td>\n",
       "      <td>NaN</td>\n",
       "      <td>60kgs</td>\n",
       "      <td>78</td>\n",
       "      <td>75</td>\n",
       "      <td>72</td>\n",
       "      <td>-</td>\n",
       "      <td>-</td>\n",
       "      <td>-</td>\n",
       "    </tr>\n",
       "    <tr>\n",
       "      <th>13</th>\n",
       "      <td>12.0</td>\n",
       "      <td>Michel Long</td>\n",
       "      <td>34.0</td>\n",
       "      <td>NaN</td>\n",
       "      <td>65</td>\n",
       "      <td>67</td>\n",
       "      <td>55</td>\n",
       "      <td>-</td>\n",
       "      <td>-</td>\n",
       "      <td>-</td>\n",
       "    </tr>\n",
       "    <tr>\n",
       "      <th>14</th>\n",
       "      <td>13.0</td>\n",
       "      <td>Tana Ricky</td>\n",
       "      <td>NaN</td>\n",
       "      <td>NaN</td>\n",
       "      <td>-</td>\n",
       "      <td>-</td>\n",
       "      <td>-</td>\n",
       "      <td>68</td>\n",
       "      <td>72</td>\n",
       "      <td>70</td>\n",
       "    </tr>\n",
       "    <tr>\n",
       "      <th>15</th>\n",
       "      <td>14.0</td>\n",
       "      <td>UniLever</td>\n",
       "      <td>NaN</td>\n",
       "      <td>NaN</td>\n",
       "      <td>NaN</td>\n",
       "      <td>NaN</td>\n",
       "      <td>NaN</td>\n",
       "      <td>NaN</td>\n",
       "      <td>NaN</td>\n",
       "      <td>NaN</td>\n",
       "    </tr>\n",
       "    <tr>\n",
       "      <th>16</th>\n",
       "      <td>15.0</td>\n",
       "      <td>NaN</td>\n",
       "      <td>52.0</td>\n",
       "      <td>180lbs</td>\n",
       "      <td>-</td>\n",
       "      <td>-</td>\n",
       "      <td>-</td>\n",
       "      <td>68</td>\n",
       "      <td>75</td>\n",
       "      <td>72</td>\n",
       "    </tr>\n",
       "  </tbody>\n",
       "</table>\n",
       "</div>"
      ],
      "text/plain": [
       "       1    Mickéy Mousé    56       70kgs   72   69   71    -  -.1  -.2\n",
       "0    2.0     Donald Duck  34.0   154.89lbs    -    -    -   85   84   76\n",
       "1    3.0      Mini Mouse  16.0         NaN    -    -    -   65   69   72\n",
       "2    4.0  Scrooge McDuck   NaN       78kgs   78   79   72    -    -    -\n",
       "3    5.0    Pink Panther  54.0  198.658lbs    -    -    -   69  NaN   75\n",
       "4    6.0     Huey McDuck  52.0      189lbs    -    -    -   68   75   72\n",
       "5    7.0    Dewey McDuck  19.0       56kgs    -    -    -   71   78   75\n",
       "6    8.0      Scööpy Doo  32.0       78kgs   78   76   75    -    -    -\n",
       "7    NaN             NaN   NaN         NaN  NaN  NaN  NaN  NaN  NaN  NaN\n",
       "8    NaN             NaN   NaN         NaN  NaN  NaN  NaN  NaN  NaN  NaN\n",
       "9    NaN             NaN   NaN         NaN  NaN  NaN  NaN  NaN  NaN  NaN\n",
       "10   9.0     Huey McDuck  52.0      189lbs    -    -    -   68   75   72\n",
       "11  10.0    Louie McDuck  12.0       45kgs    -    -    -   92   95   87\n",
       "12  11.0       Henry Nam   NaN       60kgs   78   75   72    -    -    -\n",
       "13  12.0     Michel Long  34.0         NaN   65   67   55    -    -    -\n",
       "14  13.0      Tana Ricky   NaN         NaN    -    -    -   68   72   70\n",
       "15  14.0        UniLever   NaN         NaN  NaN  NaN  NaN  NaN  NaN  NaN\n",
       "16  15.0             NaN  52.0      180lbs    -    -    -   68   75   72"
      ]
     },
     "execution_count": 196,
     "metadata": {},
     "output_type": "execute_result"
    }
   ],
   "source": [
    "patientheartrate = pd.read_csv(r'patient_heart_rate.csv')\n",
    "patientheartrate"
   ]
  },
  {
   "cell_type": "code",
   "execution_count": 197,
   "metadata": {},
   "outputs": [
    {
     "data": {
      "text/html": [
       "<div>\n",
       "<style scoped>\n",
       "    .dataframe tbody tr th:only-of-type {\n",
       "        vertical-align: middle;\n",
       "    }\n",
       "\n",
       "    .dataframe tbody tr th {\n",
       "        vertical-align: top;\n",
       "    }\n",
       "\n",
       "    .dataframe thead th {\n",
       "        text-align: right;\n",
       "    }\n",
       "</style>\n",
       "<table border=\"1\" class=\"dataframe\">\n",
       "  <thead>\n",
       "    <tr style=\"text-align: right;\">\n",
       "      <th></th>\n",
       "      <th>1</th>\n",
       "      <th>Mickéy Mousé</th>\n",
       "      <th>56</th>\n",
       "      <th>70kgs</th>\n",
       "      <th>72</th>\n",
       "      <th>69</th>\n",
       "      <th>71</th>\n",
       "      <th>-</th>\n",
       "      <th>-.1</th>\n",
       "      <th>-.2</th>\n",
       "    </tr>\n",
       "  </thead>\n",
       "  <tbody>\n",
       "    <tr>\n",
       "      <th>0</th>\n",
       "      <td>2.0</td>\n",
       "      <td>Donald Duck</td>\n",
       "      <td>34.0</td>\n",
       "      <td>154.89lbs</td>\n",
       "      <td>-</td>\n",
       "      <td>-</td>\n",
       "      <td>-</td>\n",
       "      <td>85</td>\n",
       "      <td>84</td>\n",
       "      <td>76</td>\n",
       "    </tr>\n",
       "    <tr>\n",
       "      <th>1</th>\n",
       "      <td>3.0</td>\n",
       "      <td>Mini Mouse</td>\n",
       "      <td>16.0</td>\n",
       "      <td>NaN</td>\n",
       "      <td>-</td>\n",
       "      <td>-</td>\n",
       "      <td>-</td>\n",
       "      <td>65</td>\n",
       "      <td>69</td>\n",
       "      <td>72</td>\n",
       "    </tr>\n",
       "    <tr>\n",
       "      <th>2</th>\n",
       "      <td>4.0</td>\n",
       "      <td>Scrooge McDuck</td>\n",
       "      <td>NaN</td>\n",
       "      <td>78kgs</td>\n",
       "      <td>78</td>\n",
       "      <td>79</td>\n",
       "      <td>72</td>\n",
       "      <td>-</td>\n",
       "      <td>-</td>\n",
       "      <td>-</td>\n",
       "    </tr>\n",
       "    <tr>\n",
       "      <th>3</th>\n",
       "      <td>5.0</td>\n",
       "      <td>Pink Panther</td>\n",
       "      <td>54.0</td>\n",
       "      <td>198.658lbs</td>\n",
       "      <td>-</td>\n",
       "      <td>-</td>\n",
       "      <td>-</td>\n",
       "      <td>69</td>\n",
       "      <td>NaN</td>\n",
       "      <td>75</td>\n",
       "    </tr>\n",
       "    <tr>\n",
       "      <th>4</th>\n",
       "      <td>6.0</td>\n",
       "      <td>Huey McDuck</td>\n",
       "      <td>52.0</td>\n",
       "      <td>189lbs</td>\n",
       "      <td>-</td>\n",
       "      <td>-</td>\n",
       "      <td>-</td>\n",
       "      <td>68</td>\n",
       "      <td>75</td>\n",
       "      <td>72</td>\n",
       "    </tr>\n",
       "  </tbody>\n",
       "</table>\n",
       "</div>"
      ],
      "text/plain": [
       "     1    Mickéy Mousé    56       70kgs  72  69  71   -  -.1 -.2\n",
       "0  2.0     Donald Duck  34.0   154.89lbs   -   -   -  85   84  76\n",
       "1  3.0      Mini Mouse  16.0         NaN   -   -   -  65   69  72\n",
       "2  4.0  Scrooge McDuck   NaN       78kgs  78  79  72   -    -   -\n",
       "3  5.0    Pink Panther  54.0  198.658lbs   -   -   -  69  NaN  75\n",
       "4  6.0     Huey McDuck  52.0      189lbs   -   -   -  68   75  72"
      ]
     },
     "execution_count": 197,
     "metadata": {},
     "output_type": "execute_result"
    }
   ],
   "source": [
    "patientheartrate.head(5)"
   ]
  },
  {
   "cell_type": "code",
   "execution_count": 198,
   "metadata": {},
   "outputs": [],
   "source": [
    "column_names = [\"Id\", \"Name\", \"Age\", \"Weight\", 'm0006', 'm0612', 'm1218', 'f0006', 'f0612', 'f1218']"
   ]
  },
  {
   "cell_type": "code",
   "execution_count": 199,
   "metadata": {},
   "outputs": [],
   "source": [
    "patientheartrate = pd.read_csv(\"patient_heart_rate.csv\", names = column_names)"
   ]
  },
  {
   "cell_type": "markdown",
   "metadata": {},
   "source": [
    "Vấn đề 2 :"
   ]
  },
  {
   "cell_type": "code",
   "execution_count": 200,
   "metadata": {},
   "outputs": [],
   "source": [
    "patientheartrate[['Firstname','Lastname']] = patientheartrate['Name'].str.split(expand=True)"
   ]
  },
  {
   "cell_type": "code",
   "execution_count": 201,
   "metadata": {},
   "outputs": [],
   "source": [
    "patientheartrate = patientheartrate.drop('Name', axis=1)"
   ]
  },
  {
   "cell_type": "code",
   "execution_count": 202,
   "metadata": {},
   "outputs": [
    {
     "name": "stdout",
     "output_type": "stream",
     "text": [
      "      Id   Age      Weight m0006 m0612 m1218 f0006 f0612 f1218 Firstname  \\\n",
      "0    1.0  56.0       70kgs    72    69    71     -     -     -    Mickéy   \n",
      "1    2.0  34.0   154.89lbs     -     -     -    85    84    76    Donald   \n",
      "2    3.0  16.0         NaN     -     -     -    65    69    72      Mini   \n",
      "3    4.0   NaN       78kgs    78    79    72     -     -     -   Scrooge   \n",
      "4    5.0  54.0  198.658lbs     -     -     -    69   NaN    75      Pink   \n",
      "5    6.0  52.0      189lbs     -     -     -    68    75    72      Huey   \n",
      "6    7.0  19.0       56kgs     -     -     -    71    78    75     Dewey   \n",
      "7    8.0  32.0       78kgs    78    76    75     -     -     -    Scööpy   \n",
      "8    NaN   NaN         NaN   NaN   NaN   NaN   NaN   NaN   NaN       NaN   \n",
      "9    NaN   NaN         NaN   NaN   NaN   NaN   NaN   NaN   NaN       NaN   \n",
      "10   NaN   NaN         NaN   NaN   NaN   NaN   NaN   NaN   NaN       NaN   \n",
      "11   9.0  52.0      189lbs     -     -     -    68    75    72      Huey   \n",
      "12  10.0  12.0       45kgs     -     -     -    92    95    87     Louie   \n",
      "13  11.0   NaN       60kgs    78    75    72     -     -     -     Henry   \n",
      "14  12.0  34.0         NaN    65    67    55     -     -     -    Michel   \n",
      "15  13.0   NaN         NaN     -     -     -    68    72    70      Tana   \n",
      "16  14.0   NaN         NaN   NaN   NaN   NaN   NaN   NaN   NaN  UniLever   \n",
      "17  15.0  52.0      180lbs     -     -     -    68    75    72       NaN   \n",
      "\n",
      "   Lastname  \n",
      "0     Mousé  \n",
      "1      Duck  \n",
      "2     Mouse  \n",
      "3    McDuck  \n",
      "4   Panther  \n",
      "5    McDuck  \n",
      "6    McDuck  \n",
      "7       Doo  \n",
      "8       NaN  \n",
      "9       NaN  \n",
      "10      NaN  \n",
      "11   McDuck  \n",
      "12   McDuck  \n",
      "13      Nam  \n",
      "14     Long  \n",
      "15    Ricky  \n",
      "16     None  \n",
      "17      NaN  \n"
     ]
    }
   ],
   "source": [
    "print(patientheartrate)"
   ]
  },
  {
   "cell_type": "markdown",
   "metadata": {},
   "source": [
    "Vấn đề 3 :"
   ]
  },
  {
   "cell_type": "code",
   "execution_count": 203,
   "metadata": {},
   "outputs": [
    {
     "name": "stderr",
     "output_type": "stream",
     "text": [
      "C:\\Users\\Admin\\AppData\\Local\\Temp\\ipykernel_8664\\2135894474.py:9: SettingWithCopyWarning: \n",
      "A value is trying to be set on a copy of a slice from a DataFrame\n",
      "\n",
      "See the caveats in the documentation: https://pandas.pydata.org/pandas-docs/stable/user_guide/indexing.html#returning-a-view-versus-a-copy\n",
      "  weight[i] = y\n",
      "C:\\Users\\Admin\\AppData\\Local\\Temp\\ipykernel_8664\\2135894474.py:9: SettingWithCopyWarning: \n",
      "A value is trying to be set on a copy of a slice from a DataFrame\n",
      "\n",
      "See the caveats in the documentation: https://pandas.pydata.org/pandas-docs/stable/user_guide/indexing.html#returning-a-view-versus-a-copy\n",
      "  weight[i] = y\n",
      "C:\\Users\\Admin\\AppData\\Local\\Temp\\ipykernel_8664\\2135894474.py:9: SettingWithCopyWarning: \n",
      "A value is trying to be set on a copy of a slice from a DataFrame\n",
      "\n",
      "See the caveats in the documentation: https://pandas.pydata.org/pandas-docs/stable/user_guide/indexing.html#returning-a-view-versus-a-copy\n",
      "  weight[i] = y\n",
      "C:\\Users\\Admin\\AppData\\Local\\Temp\\ipykernel_8664\\2135894474.py:9: SettingWithCopyWarning: \n",
      "A value is trying to be set on a copy of a slice from a DataFrame\n",
      "\n",
      "See the caveats in the documentation: https://pandas.pydata.org/pandas-docs/stable/user_guide/indexing.html#returning-a-view-versus-a-copy\n",
      "  weight[i] = y\n",
      "C:\\Users\\Admin\\AppData\\Local\\Temp\\ipykernel_8664\\2135894474.py:9: SettingWithCopyWarning: \n",
      "A value is trying to be set on a copy of a slice from a DataFrame\n",
      "\n",
      "See the caveats in the documentation: https://pandas.pydata.org/pandas-docs/stable/user_guide/indexing.html#returning-a-view-versus-a-copy\n",
      "  weight[i] = y\n"
     ]
    }
   ],
   "source": [
    "weight = patientheartrate['Weight']\n",
    "for i in range (0, len(weight)) :\n",
    "    x = str(weight[i])\n",
    "    if \"lbs\" in x[-3:]:\n",
    "        x = x[:-3:]\n",
    "        float_x = float(x)\n",
    "        y = int(float_x/2.2)\n",
    "        y = str(y)+\"kgs\"\n",
    "        weight[i] = y"
   ]
  },
  {
   "cell_type": "code",
   "execution_count": 204,
   "metadata": {},
   "outputs": [
    {
     "name": "stdout",
     "output_type": "stream",
     "text": [
      "      Id   Age Weight m0006 m0612 m1218 f0006 f0612 f1218 Firstname Lastname\n",
      "0    1.0  56.0  70kgs    72    69    71     -     -     -    Mickéy    Mousé\n",
      "1    2.0  34.0  70kgs     -     -     -    85    84    76    Donald     Duck\n",
      "2    3.0  16.0    NaN     -     -     -    65    69    72      Mini    Mouse\n",
      "3    4.0   NaN  78kgs    78    79    72     -     -     -   Scrooge   McDuck\n",
      "4    5.0  54.0  90kgs     -     -     -    69   NaN    75      Pink  Panther\n",
      "5    6.0  52.0  85kgs     -     -     -    68    75    72      Huey   McDuck\n",
      "6    7.0  19.0  56kgs     -     -     -    71    78    75     Dewey   McDuck\n",
      "7    8.0  32.0  78kgs    78    76    75     -     -     -    Scööpy      Doo\n",
      "8    NaN   NaN    NaN   NaN   NaN   NaN   NaN   NaN   NaN       NaN      NaN\n",
      "9    NaN   NaN    NaN   NaN   NaN   NaN   NaN   NaN   NaN       NaN      NaN\n",
      "10   NaN   NaN    NaN   NaN   NaN   NaN   NaN   NaN   NaN       NaN      NaN\n",
      "11   9.0  52.0  85kgs     -     -     -    68    75    72      Huey   McDuck\n",
      "12  10.0  12.0  45kgs     -     -     -    92    95    87     Louie   McDuck\n",
      "13  11.0   NaN  60kgs    78    75    72     -     -     -     Henry      Nam\n",
      "14  12.0  34.0    NaN    65    67    55     -     -     -    Michel     Long\n",
      "15  13.0   NaN    NaN     -     -     -    68    72    70      Tana    Ricky\n",
      "16  14.0   NaN    NaN   NaN   NaN   NaN   NaN   NaN   NaN  UniLever     None\n",
      "17  15.0  52.0  81kgs     -     -     -    68    75    72       NaN      NaN\n"
     ]
    }
   ],
   "source": [
    "print(patientheartrate)"
   ]
  },
  {
   "cell_type": "markdown",
   "metadata": {},
   "source": [
    "Vấn đề 4 :"
   ]
  },
  {
   "cell_type": "code",
   "execution_count": 205,
   "metadata": {},
   "outputs": [],
   "source": [
    "patientheartrate.dropna(how=\"all\", inplace=True)"
   ]
  },
  {
   "cell_type": "code",
   "execution_count": 206,
   "metadata": {},
   "outputs": [
    {
     "name": "stdout",
     "output_type": "stream",
     "text": [
      "      Id   Age Weight m0006 m0612 m1218 f0006 f0612 f1218 Firstname Lastname\n",
      "0    1.0  56.0  70kgs    72    69    71     -     -     -    Mickéy    Mousé\n",
      "1    2.0  34.0  70kgs     -     -     -    85    84    76    Donald     Duck\n",
      "2    3.0  16.0    NaN     -     -     -    65    69    72      Mini    Mouse\n",
      "3    4.0   NaN  78kgs    78    79    72     -     -     -   Scrooge   McDuck\n",
      "4    5.0  54.0  90kgs     -     -     -    69   NaN    75      Pink  Panther\n",
      "5    6.0  52.0  85kgs     -     -     -    68    75    72      Huey   McDuck\n",
      "6    7.0  19.0  56kgs     -     -     -    71    78    75     Dewey   McDuck\n",
      "7    8.0  32.0  78kgs    78    76    75     -     -     -    Scööpy      Doo\n",
      "11   9.0  52.0  85kgs     -     -     -    68    75    72      Huey   McDuck\n",
      "12  10.0  12.0  45kgs     -     -     -    92    95    87     Louie   McDuck\n",
      "13  11.0   NaN  60kgs    78    75    72     -     -     -     Henry      Nam\n",
      "14  12.0  34.0    NaN    65    67    55     -     -     -    Michel     Long\n",
      "15  13.0   NaN    NaN     -     -     -    68    72    70      Tana    Ricky\n",
      "16  14.0   NaN    NaN   NaN   NaN   NaN   NaN   NaN   NaN  UniLever     None\n",
      "17  15.0  52.0  81kgs     -     -     -    68    75    72       NaN      NaN\n"
     ]
    }
   ],
   "source": [
    "print(patientheartrate)"
   ]
  },
  {
   "cell_type": "markdown",
   "metadata": {},
   "source": [
    "Vấn đề 5 :"
   ]
  },
  {
   "cell_type": "code",
   "execution_count": 207,
   "metadata": {},
   "outputs": [],
   "source": [
    "patientheartrate = patientheartrate.drop_duplicates(subset=['Firstname', 'Lastname', 'Age', 'Weight'])\n"
   ]
  },
  {
   "cell_type": "code",
   "execution_count": 208,
   "metadata": {},
   "outputs": [
    {
     "name": "stdout",
     "output_type": "stream",
     "text": [
      "      Id   Age Weight m0006 m0612 m1218 f0006 f0612 f1218 Firstname Lastname\n",
      "0    1.0  56.0  70kgs    72    69    71     -     -     -    Mickéy    Mousé\n",
      "1    2.0  34.0  70kgs     -     -     -    85    84    76    Donald     Duck\n",
      "2    3.0  16.0    NaN     -     -     -    65    69    72      Mini    Mouse\n",
      "3    4.0   NaN  78kgs    78    79    72     -     -     -   Scrooge   McDuck\n",
      "4    5.0  54.0  90kgs     -     -     -    69   NaN    75      Pink  Panther\n",
      "5    6.0  52.0  85kgs     -     -     -    68    75    72      Huey   McDuck\n",
      "6    7.0  19.0  56kgs     -     -     -    71    78    75     Dewey   McDuck\n",
      "7    8.0  32.0  78kgs    78    76    75     -     -     -    Scööpy      Doo\n",
      "12  10.0  12.0  45kgs     -     -     -    92    95    87     Louie   McDuck\n",
      "13  11.0   NaN  60kgs    78    75    72     -     -     -     Henry      Nam\n",
      "14  12.0  34.0    NaN    65    67    55     -     -     -    Michel     Long\n",
      "15  13.0   NaN    NaN     -     -     -    68    72    70      Tana    Ricky\n",
      "16  14.0   NaN    NaN   NaN   NaN   NaN   NaN   NaN   NaN  UniLever     None\n",
      "17  15.0  52.0  81kgs     -     -     -    68    75    72       NaN      NaN\n"
     ]
    }
   ],
   "source": [
    "print(patientheartrate)"
   ]
  },
  {
   "cell_type": "markdown",
   "metadata": {},
   "source": [
    "Vấn đề 6 :"
   ]
  },
  {
   "cell_type": "code",
   "execution_count": 209,
   "metadata": {},
   "outputs": [],
   "source": [
    "patientheartrate.Firstname.replace({r'[^\\x00-\\x7F]+':''}, regex = True, inplace=True)"
   ]
  },
  {
   "cell_type": "code",
   "execution_count": 210,
   "metadata": {},
   "outputs": [],
   "source": [
    "patientheartrate.Lastname.replace({r'[^\\x00-\\x7F]+':''}, regex = True, inplace=True)"
   ]
  },
  {
   "cell_type": "code",
   "execution_count": 211,
   "metadata": {},
   "outputs": [
    {
     "name": "stdout",
     "output_type": "stream",
     "text": [
      "      Id   Age Weight m0006 m0612 m1218 f0006 f0612 f1218 Firstname Lastname\n",
      "0    1.0  56.0  70kgs    72    69    71     -     -     -     Micky     Mous\n",
      "1    2.0  34.0  70kgs     -     -     -    85    84    76    Donald     Duck\n",
      "2    3.0  16.0    NaN     -     -     -    65    69    72      Mini    Mouse\n",
      "3    4.0   NaN  78kgs    78    79    72     -     -     -   Scrooge   McDuck\n",
      "4    5.0  54.0  90kgs     -     -     -    69   NaN    75      Pink  Panther\n",
      "5    6.0  52.0  85kgs     -     -     -    68    75    72      Huey   McDuck\n",
      "6    7.0  19.0  56kgs     -     -     -    71    78    75     Dewey   McDuck\n",
      "7    8.0  32.0  78kgs    78    76    75     -     -     -      Scpy      Doo\n",
      "12  10.0  12.0  45kgs     -     -     -    92    95    87     Louie   McDuck\n",
      "13  11.0   NaN  60kgs    78    75    72     -     -     -     Henry      Nam\n",
      "14  12.0  34.0    NaN    65    67    55     -     -     -    Michel     Long\n",
      "15  13.0   NaN    NaN     -     -     -    68    72    70      Tana    Ricky\n",
      "16  14.0   NaN    NaN   NaN   NaN   NaN   NaN   NaN   NaN  UniLever     None\n",
      "17  15.0  52.0  81kgs     -     -     -    68    75    72       NaN      NaN\n"
     ]
    }
   ],
   "source": [
    "print(patientheartrate)"
   ]
  },
  {
   "cell_type": "markdown",
   "metadata": {},
   "source": [
    "Vấn đề 7 :"
   ]
  },
  {
   "cell_type": "code",
   "execution_count": 212,
   "metadata": {},
   "outputs": [
    {
     "data": {
      "text/plain": [
       "Index([15, 16], dtype='int64')"
      ]
     },
     "execution_count": 212,
     "metadata": {},
     "output_type": "execute_result"
    }
   ],
   "source": [
    "index_ageweightnull = patientheartrate[patientheartrate['Age'].isna() & patientheartrate['Weight'].isna()].index\n",
    "index_ageweightnull"
   ]
  },
  {
   "cell_type": "code",
   "execution_count": 213,
   "metadata": {},
   "outputs": [],
   "source": [
    "patientheartrate.drop(index_ageweightnull, inplace=True)"
   ]
  },
  {
   "cell_type": "code",
   "execution_count": 214,
   "metadata": {},
   "outputs": [
    {
     "data": {
      "text/plain": [
       "0     56.0\n",
       "1     34.0\n",
       "2     16.0\n",
       "3     36.1\n",
       "4     54.0\n",
       "5     52.0\n",
       "6     19.0\n",
       "7     32.0\n",
       "12    12.0\n",
       "13    36.1\n",
       "14    34.0\n",
       "17    52.0\n",
       "Name: Age, dtype: float64"
      ]
     },
     "execution_count": 214,
     "metadata": {},
     "output_type": "execute_result"
    }
   ],
   "source": [
    "patientheartrate['Age'].fillna(patientheartrate['Age'].mean(), inplace = False)"
   ]
  },
  {
   "cell_type": "markdown",
   "metadata": {},
   "source": [
    "Vấn đề 8 :"
   ]
  },
  {
   "cell_type": "code",
   "execution_count": null,
   "metadata": {},
   "outputs": [],
   "source": [
    "patientheartrate = pd.melt(patientheartrate, id_vars = ['ID', 'Age', 'Weight', 'Firstname', 'Lastname'], value_name = \"PulseRate\", var_name = \"sex_and_time\").sort_values()"
   ]
  },
  {
   "cell_type": "code",
   "execution_count": null,
   "metadata": {},
   "outputs": [],
   "source": []
  },
  {
   "cell_type": "code",
   "execution_count": null,
   "metadata": {},
   "outputs": [],
   "source": []
  }
 ],
 "metadata": {
  "kernelspec": {
   "display_name": "Python 3",
   "language": "python",
   "name": "python3"
  },
  "language_info": {
   "codemirror_mode": {
    "name": "ipython",
    "version": 3
   },
   "file_extension": ".py",
   "mimetype": "text/x-python",
   "name": "python",
   "nbconvert_exporter": "python",
   "pygments_lexer": "ipython3",
   "version": "3.11.9"
  }
 },
 "nbformat": 4,
 "nbformat_minor": 2
}
